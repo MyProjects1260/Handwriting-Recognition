{
 "cells": [
  {
   "cell_type": "code",
   "execution_count": 1,
   "metadata": {},
   "outputs": [],
   "source": [
    "import matplotlib.pyplot as plt\n",
    "import numpy as np\n",
    "import cv2\n",
    "import pytesseract\n",
    "import os"
   ]
  },
  {
   "cell_type": "code",
   "execution_count": 2,
   "metadata": {},
   "outputs": [],
   "source": [
    "img=cv2.imread(\"C:/Users/Ben Romdhane/Documents/Project/test_v2/test/TEST_0011.jpg\")\n",
    "img=cv2.resize(img,None,fx=4,fy=4)"
   ]
  },
  {
   "cell_type": "code",
   "execution_count": 3,
   "metadata": {},
   "outputs": [
    {
     "data": {
      "text/plain": [
       "<matplotlib.image.AxesImage at 0x172417f1a00>"
      ]
     },
     "execution_count": 3,
     "metadata": {},
     "output_type": "execute_result"
    },
    {
     "data": {
      "image/png": "[encoded data removed]",
      "text/plain": [
       "<Figure size 432x288 with 1 Axes>"
      ]
     },
     "metadata": {
      "needs_background": "light"
     },
     "output_type": "display_data"
    }
   ],
   "source": [
    "plt.figure()\n",
    "plt.imshow(img)"
   ]
  },
  {
   "cell_type": "code",
   "execution_count": 4,
   "metadata": {},
   "outputs": [],
   "source": [
    "pytesseract.pytesseract.tesseract_cmd = r\"..\\tesseract.exe\""
   ]
  },
  {
   "cell_type": "code",
   "execution_count": 5,
   "metadata": {},
   "outputs": [
    {
     "data": {
      "text/plain": [
       "<matplotlib.image.AxesImage at 0x17241f8e460>"
      ]
     },
     "execution_count": 5,
     "metadata": {},
     "output_type": "execute_result"
    },
    {
     "data": {
      "image/png": "[encoded data removed]",
      "text/plain": [
       "<Figure size 432x288 with 1 Axes>"
      ]
     },
     "metadata": {
      "needs_background": "light"
     },
     "output_type": "display_data"
    }
   ],
   "source": [
    "boxes= pytesseract.image_to_data(img, lang=\"eng\")\n",
    "#print(boxes)\n",
    "for x,b in enumerate(boxes.splitlines()):\n",
    "    if x !=0:\n",
    "        b=b.split()\n",
    "        #print(b)\n",
    "        if len(b)==12:\n",
    "            x,y,w,h=int(b[6]),int(b[7]),int(b[8]),int(b[9])\n",
    "            cv2.rectangle(img,(x,y),(x+w,y+h),(0,255,0),3)\n",
    "            cv2.putText(img,b[11],(x,y),cv2.FONT_HERSHEY_COMPLEX,0.7,(0,0,255),3)\n",
    "            \n",
    "plt.imshow(img)\n",
    "\n"
   ]
  },
  {
   "cell_type": "code",
   "execution_count": null,
   "metadata": {},
   "outputs": [],
   "source": []
  },
  {
   "cell_type": "code",
   "execution_count": 3,
   "metadata": {},
   "outputs": [],
   "source": [
    "import pandas as pd \n",
    "from keras.preprocessing.text import Tokenizer\n",
    "from keras.preprocessing.sequence import pad_sequences"
   ]
  },
  {
   "cell_type": "code",
   "execution_count": 4,
   "metadata": {},
   "outputs": [],
   "source": [
    "english_sentences = pd.read_csv(\".\\en_fr\\small_vocab_en.csv\", header=None, names=['Line 1','Line 2'])\n",
    "french_sentences = pd.read_csv(\".\\en_fr\\small_vocab_fr.csv\", header=None, names=['Line 1','Line 2'])"
   ]
  },
  {
   "cell_type": "code",
   "execution_count": 97,
   "metadata": {
    "scrolled": true
   },
   "outputs": [
    {
     "data": {
      "text/html": [
       "<div>\n",
       "<style scoped>\n",
       "    .dataframe tbody tr th:only-of-type {\n",
       "        vertical-align: middle;\n",
       "    }\n",
       "\n",
       "    .dataframe tbody tr th {\n",
       "        vertical-align: top;\n",
       "    }\n",
       "\n",
       "    .dataframe thead th {\n",
       "        text-align: right;\n",
       "    }\n",
       "</style>\n",
       "<table border=\"1\" class=\"dataframe\">\n",
       "  <thead>\n",
       "    <tr style=\"text-align: right;\">\n",
       "      <th></th>\n",
       "      <th>Line 1</th>\n",
       "      <th>Line 2</th>\n",
       "    </tr>\n",
       "  </thead>\n",
       "  <tbody>\n",
       "    <tr>\n",
       "      <th>0</th>\n",
       "      <td>new jersey is sometimes quiet during autumn</td>\n",
       "      <td>and it is snowy in april .</td>\n",
       "    </tr>\n",
       "    <tr>\n",
       "      <th>1</th>\n",
       "      <td>the united states is usually chilly during july</td>\n",
       "      <td>and it is usually freezing in november .</td>\n",
       "    </tr>\n",
       "    <tr>\n",
       "      <th>2</th>\n",
       "      <td>california is usually quiet during march</td>\n",
       "      <td>and it is usually hot in june .</td>\n",
       "    </tr>\n",
       "    <tr>\n",
       "      <th>3</th>\n",
       "      <td>the united states is sometimes mild during june</td>\n",
       "      <td>and it is cold in september .</td>\n",
       "    </tr>\n",
       "    <tr>\n",
       "      <th>4</th>\n",
       "      <td>your least liked fruit is the grape</td>\n",
       "      <td>but my least liked is the apple .</td>\n",
       "    </tr>\n",
       "    <tr>\n",
       "      <th>...</th>\n",
       "      <td>...</td>\n",
       "      <td>...</td>\n",
       "    </tr>\n",
       "    <tr>\n",
       "      <th>137855</th>\n",
       "      <td>france is never busy during march</td>\n",
       "      <td>and it is sometimes pleasant in september .</td>\n",
       "    </tr>\n",
       "    <tr>\n",
       "      <th>137856</th>\n",
       "      <td>india is sometimes beautiful during spring</td>\n",
       "      <td>and it is snowy in june .</td>\n",
       "    </tr>\n",
       "    <tr>\n",
       "      <th>137857</th>\n",
       "      <td>india is never wet during summer</td>\n",
       "      <td>but it is sometimes chilly in winter .</td>\n",
       "    </tr>\n",
       "    <tr>\n",
       "      <th>137858</th>\n",
       "      <td>france is never chilly during january</td>\n",
       "      <td>but it is never mild in october .</td>\n",
       "    </tr>\n",
       "    <tr>\n",
       "      <th>137859</th>\n",
       "      <td>the orange is her favorite fruit</td>\n",
       "      <td>but the banana is your favorite .</td>\n",
       "    </tr>\n",
       "  </tbody>\n",
       "</table>\n",
       "<p>121054 rows × 2 columns</p>\n",
       "</div>"
      ],
      "text/plain": [
       "                                                  Line 1  \\\n",
       "0           new jersey is sometimes quiet during autumn    \n",
       "1       the united states is usually chilly during july    \n",
       "2              california is usually quiet during march    \n",
       "3       the united states is sometimes mild during june    \n",
       "4                   your least liked fruit is the grape    \n",
       "...                                                  ...   \n",
       "137855                france is never busy during march    \n",
       "137856       india is sometimes beautiful during spring    \n",
       "137857                 india is never wet during summer    \n",
       "137858            france is never chilly during january    \n",
       "137859                 the orange is her favorite fruit    \n",
       "\n",
       "                                              Line 2  \n",
       "0                         and it is snowy in april .  \n",
       "1           and it is usually freezing in november .  \n",
       "2                    and it is usually hot in june .  \n",
       "3                      and it is cold in september .  \n",
       "4                  but my least liked is the apple .  \n",
       "...                                              ...  \n",
       "137855   and it is sometimes pleasant in september .  \n",
       "137856                     and it is snowy in june .  \n",
       "137857        but it is sometimes chilly in winter .  \n",
       "137858             but it is never mild in october .  \n",
       "137859             but the banana is your favorite .  \n",
       "\n",
       "[121054 rows x 2 columns]"
      ]
     },
     "execution_count": 97,
     "metadata": {},
     "output_type": "execute_result"
    }
   ],
   "source": [
    "english_sentences"
   ]
  },
  {
   "cell_type": "code",
   "execution_count": 6,
   "metadata": {},
   "outputs": [
    {
     "data": {
      "text/html": [
       "<div>\n",
       "<style scoped>\n",
       "    .dataframe tbody tr th:only-of-type {\n",
       "        vertical-align: middle;\n",
       "    }\n",
       "\n",
       "    .dataframe tbody tr th {\n",
       "        vertical-align: top;\n",
       "    }\n",
       "\n",
       "    .dataframe thead th {\n",
       "        text-align: right;\n",
       "    }\n",
       "</style>\n",
       "<table border=\"1\" class=\"dataframe\">\n",
       "  <thead>\n",
       "    <tr style=\"text-align: right;\">\n",
       "      <th></th>\n",
       "      <th>Line 1</th>\n",
       "      <th>Line 2</th>\n",
       "    </tr>\n",
       "  </thead>\n",
       "  <tbody>\n",
       "    <tr>\n",
       "      <th>0</th>\n",
       "      <td>new jersey est parfois calme pendant l' automne</td>\n",
       "      <td>et il est neigeux en avril .</td>\n",
       "    </tr>\n",
       "    <tr>\n",
       "      <th>1</th>\n",
       "      <td>les états-unis est généralement froid en juillet</td>\n",
       "      <td>et il gèle habituellement en novembre .</td>\n",
       "    </tr>\n",
       "    <tr>\n",
       "      <th>2</th>\n",
       "      <td>california est généralement calme en mars</td>\n",
       "      <td>et il est généralement chaud en juin .</td>\n",
       "    </tr>\n",
       "    <tr>\n",
       "      <th>3</th>\n",
       "      <td>les états-unis est parfois légère en juin</td>\n",
       "      <td>et il fait froid en septembre .</td>\n",
       "    </tr>\n",
       "    <tr>\n",
       "      <th>4</th>\n",
       "      <td>votre moins aimé fruit est le raisin</td>\n",
       "      <td>mais mon moins aimé est la pomme .</td>\n",
       "    </tr>\n",
       "    <tr>\n",
       "      <th>...</th>\n",
       "      <td>...</td>\n",
       "      <td>...</td>\n",
       "    </tr>\n",
       "    <tr>\n",
       "      <th>137855</th>\n",
       "      <td>la france est jamais occupée en mars</td>\n",
       "      <td>et il est parfois agréable en septembre .</td>\n",
       "    </tr>\n",
       "    <tr>\n",
       "      <th>137856</th>\n",
       "      <td>l' inde est parfois belle au printemps</td>\n",
       "      <td>et il est neigeux en juin .</td>\n",
       "    </tr>\n",
       "    <tr>\n",
       "      <th>137857</th>\n",
       "      <td>l' inde est jamais mouillé pendant l' été</td>\n",
       "      <td>mais il est parfois froid en hiver .</td>\n",
       "    </tr>\n",
       "    <tr>\n",
       "      <th>137858</th>\n",
       "      <td>la france est jamais froid en janvier</td>\n",
       "      <td>mais il est jamais doux en octobre .</td>\n",
       "    </tr>\n",
       "    <tr>\n",
       "      <th>137859</th>\n",
       "      <td>l'orange est son fruit préféré</td>\n",
       "      <td>mais la banane est votre favori .</td>\n",
       "    </tr>\n",
       "  </tbody>\n",
       "</table>\n",
       "<p>137860 rows × 2 columns</p>\n",
       "</div>"
      ],
      "text/plain": [
       "                                                   Line 1  \\\n",
       "0        new jersey est parfois calme pendant l' automne    \n",
       "1       les états-unis est généralement froid en juillet    \n",
       "2              california est généralement calme en mars    \n",
       "3              les états-unis est parfois légère en juin    \n",
       "4                   votre moins aimé fruit est le raisin    \n",
       "...                                                   ...   \n",
       "137855              la france est jamais occupée en mars    \n",
       "137856            l' inde est parfois belle au printemps    \n",
       "137857         l' inde est jamais mouillé pendant l' été    \n",
       "137858             la france est jamais froid en janvier    \n",
       "137859                    l'orange est son fruit préféré    \n",
       "\n",
       "                                            Line 2  \n",
       "0                     et il est neigeux en avril .  \n",
       "1          et il gèle habituellement en novembre .  \n",
       "2           et il est généralement chaud en juin .  \n",
       "3                  et il fait froid en septembre .  \n",
       "4               mais mon moins aimé est la pomme .  \n",
       "...                                            ...  \n",
       "137855   et il est parfois agréable en septembre .  \n",
       "137856                 et il est neigeux en juin .  \n",
       "137857        mais il est parfois froid en hiver .  \n",
       "137858        mais il est jamais doux en octobre .  \n",
       "137859           mais la banane est votre favori .  \n",
       "\n",
       "[137860 rows x 2 columns]"
      ]
     },
     "execution_count": 6,
     "metadata": {},
     "output_type": "execute_result"
    }
   ],
   "source": [
    "french_sentences"
   ]
  },
  {
   "cell_type": "code",
   "execution_count": 7,
   "metadata": {},
   "outputs": [
    {
     "data": {
      "text/plain": [
       "((137860, 2), (137860, 2))"
      ]
     },
     "execution_count": 7,
     "metadata": {},
     "output_type": "execute_result"
    }
   ],
   "source": [
    "english_sentences.shape, french_sentences.shape"
   ]
  },
  {
   "cell_type": "code",
   "execution_count": 8,
   "metadata": {},
   "outputs": [
    {
     "name": "stdout",
     "output_type": "stream",
     "text": [
      "paris is never hot during summer \n",
      "paris est jamais chaude pendant l' été \n"
     ]
    }
   ],
   "source": [
    "print(english_sentences[\"Line 1\"][50])\n",
    "print(french_sentences[\"Line 1\"][50])"
   ]
  },
  {
   "cell_type": "code",
   "execution_count": 9,
   "metadata": {},
   "outputs": [],
   "source": [
    "def find_Null_item(df):\n",
    "    rows_with_null = []\n",
    "    for index, row in df.iterrows():\n",
    "        is_nan_series = row.isnull()\n",
    "        if is_nan_series.any():\n",
    "            rows_with_null.append(index)\n",
    "    return rows_with_null"
   ]
  },
  {
   "cell_type": "code",
   "execution_count": 10,
   "metadata": {},
   "outputs": [],
   "source": [
    "en_null = find_Null_item(english_sentences)\n",
    "fr_null = find_Null_item(french_sentences)"
   ]
  },
  {
   "cell_type": "code",
   "execution_count": 11,
   "metadata": {},
   "outputs": [],
   "source": [
    "def Union(lst1, lst2): \n",
    "    union_list = list(set(lst1) | set(lst2)) \n",
    "    return union_list"
   ]
  },
  {
   "cell_type": "code",
   "execution_count": 12,
   "metadata": {},
   "outputs": [
    {
     "data": {
      "text/plain": [
       "16806"
      ]
     },
     "execution_count": 12,
     "metadata": {},
     "output_type": "execute_result"
    }
   ],
   "source": [
    "null_list = Union(en_null, fr_null)\n",
    "len(null_list)"
   ]
  },
  {
   "cell_type": "code",
   "execution_count": 13,
   "metadata": {},
   "outputs": [],
   "source": [
    "english_sentences = english_sentences.drop(null_list)\n",
    "french_sentences = french_sentences.drop(null_list)"
   ]
  },
  {
   "cell_type": "code",
   "execution_count": 14,
   "metadata": {},
   "outputs": [
    {
     "data": {
      "text/plain": [
       "((121054, 2), (121054, 2))"
      ]
     },
     "execution_count": 14,
     "metadata": {},
     "output_type": "execute_result"
    }
   ],
   "source": [
    "english_sentences.shape, french_sentences.shape"
   ]
  },
  {
   "cell_type": "code",
   "execution_count": 15,
   "metadata": {},
   "outputs": [],
   "source": [
    "english_list = np.array(english_sentences[\"Line 1\"] + english_sentences[\"Line 2\"])\n",
    "french_list = np.array(french_sentences[\"Line 1\"] + french_sentences[\"Line 2\"])"
   ]
  },
  {
   "cell_type": "code",
   "execution_count": 16,
   "metadata": {},
   "outputs": [],
   "source": [
    "from keras.preprocessing.text import Tokenizer\n",
    "from keras.preprocessing import sequence"
   ]
  },
  {
   "cell_type": "code",
   "execution_count": 17,
   "metadata": {},
   "outputs": [],
   "source": [
    "max_words= 100\n",
    "en_tok= Tokenizer(num_words=max_words)\n",
    "en_tok.fit_on_texts(english_list)\n",
    "en_sequences=en_tok.texts_to_sequences(english_list)\n"
   ]
  },
  {
   "cell_type": "code",
   "execution_count": 18,
   "metadata": {},
   "outputs": [
    {
     "data": {
      "text/plain": [
       "121054"
      ]
     },
     "execution_count": 18,
     "metadata": {},
     "output_type": "execute_result"
    }
   ],
   "source": [
    "len(en_sequences)"
   ]
  },
  {
   "cell_type": "code",
   "execution_count": 19,
   "metadata": {},
   "outputs": [],
   "source": [
    "fr_tok= Tokenizer(num_words=max_words)\n",
    "fr_tok.fit_on_texts(french_list)\n",
    "fr_sequences=fr_tok.texts_to_sequences(french_list)\n"
   ]
  },
  {
   "cell_type": "code",
   "execution_count": 20,
   "metadata": {},
   "outputs": [
    {
     "data": {
      "text/plain": [
       "121054"
      ]
     },
     "execution_count": 20,
     "metadata": {},
     "output_type": "execute_result"
    }
   ],
   "source": [
    "len(fr_sequences)"
   ]
  },
  {
   "cell_type": "code",
   "execution_count": 21,
   "metadata": {},
   "outputs": [
    {
     "data": {
      "text/plain": [
       "21"
      ]
     },
     "execution_count": 21,
     "metadata": {},
     "output_type": "execute_result"
    }
   ],
   "source": [
    "max_len_fr = max([len(sentence) for sentence in fr_sequences])\n",
    "max_len_fr"
   ]
  },
  {
   "cell_type": "code",
   "execution_count": 22,
   "metadata": {},
   "outputs": [
    {
     "data": {
      "text/plain": [
       "15"
      ]
     },
     "execution_count": 22,
     "metadata": {},
     "output_type": "execute_result"
    }
   ],
   "source": [
    "max_len_en = max([len(sentence) for sentence in en_sequences])\n",
    "max_len_en"
   ]
  },
  {
   "cell_type": "code",
   "execution_count": 23,
   "metadata": {},
   "outputs": [
    {
     "name": "stdout",
     "output_type": "stream",
     "text": [
      "len french_word_index:  168 \n",
      "\n",
      "french_word_index: \n",
      " {'est': 1, 'en': 2, 'il': 3, 'mais': 4, 'les': 5, 'et': 6, 'la': 7, 'parfois': 8, 'jamais': 9, 'le': 10, \"l'\": 11, 'généralement': 12, 'moins': 13, 'au': 14, 'aimé': 15, 'fruit': 16, 'préféré': 17, 'agréable': 18, 'froid': 19, 'chaud': 20, 'son': 21, 'automne': 22, 'mois': 23, 'de': 24, 'plus': 25, 'à': 26, 'paris': 27, 'inde': 28, 'états': 29, 'unis': 30, 'pendant': 31, 'new': 32, 'jersey': 33, 'france': 34, 'chine': 35, 'citrons': 36, 'pamplemousse': 37, 'juin': 38, 'printemps': 39, 'janvier': 40, 'hiver': 41, 'mars': 42, 'mai': 43, 'juillet': 44, 'septembre': 45, 'avril': 46, 'novembre': 47, 'décembre': 48, 'février': 49, 'mon': 50, 'octobre': 51, 'été': 52, 'merveilleux': 53, 'votre': 54, 'août': 55, 'relaxant': 56, 'doux': 57, 'humide': 58, 'notre': 59, 'sec': 60, 'occupé': 61, 'leur': 62, 'californie': 63, 'pluvieux': 64, 'elle': 65, 'calme': 66, 'aime': 67, 'beau': 68, 'habituellement': 69, 'oranges': 70, 'pêches': 71, 'verts': 72, 'mangues': 73, 'bananes': 74, 'poires': 75, 'fraises': 76, 'raisins': 77, 'pommes': 78, \"d'\": 79, 'gel': 80, 'mangue': 81, 'raisin': 82, 'pomme': 83, \"l'orange\": 84, 'citron': 85, 'chaux': 86, 'banane': 87, 'poire': 88, 'fraise': 89, 'pêche': 90, 'enneigée': 91, 'favori': 92, 'gèle': 93, \"l'automne\": 94, 'fruits': 95, 'pas': 96, 'california': 97, 'déteste': 98, 'neige': 99, 'fait': 100, 'belle': 101, \"n'aime\": 102, 'ne': 103, 'vous': 104, 'des': 105, 'nous': 106, 'ils': 107, 'cours': 108, 'neigeux': 109, 'tranquille': 110, 'cher': 111, 'chaude': 112, 'leurs': 113, 'aimons': 114, 'aiment': 115, \"n'aiment\": 116, 'je': 117, \"n'aimez\": 118, 'aimez': 119, 'détestons': 120, \"j'aime\": 121, 'sèche': 122, 'occupée': 123, 'frisquet': 124, 'préférée': 125, 'nos': 126, 'pleut': 127, 'pamplemousses': 128, 'pluies': 129, 'glaciales': 130, 'mouillé': 131, 'comme': 132, 'clémentes': 133, 'sont': 134, 'pluie': 135, 'trop': 136, 'monde': 137, 'avez': 138, 'i': 139, 'se': 140, 'détendre': 141, 'aimée': 142, 'magnifique': 143, 'gelé': 144, \"n'aimons\": 145, 'bien': 146, 'mes': 147, 'légère': 148, 'cépage': 149, 'lui': 150, 'aimait': 151, \"n'est\": 152, 'du': 153, 'frais': 154, 'détestez': 155, 'douce': 156, 'durant': 157, 'congélation': 158, 'porcelaine': 159, 'plaît': 160, 'bénigne': 161, 'mouillée': 162, 'enneigé': 163, 'gelés': 164, 'ressort': 165, 'détend': 166, 'apprécié': 167, 'souvent': 168}\n"
     ]
    }
   ],
   "source": [
    "french_vocab_size = len(fr_tok.word_index)\n",
    "print(\"len french_word_index: \", french_vocab_size, \"\\n\")\n",
    "print(\"french_word_index: \\n\", fr_tok.word_index)"
   ]
  },
  {
   "cell_type": "code",
   "execution_count": 24,
   "metadata": {},
   "outputs": [
    {
     "name": "stdout",
     "output_type": "stream",
     "text": [
      "len_english_vocab_size:  96 \n",
      "\n",
      "english_vocab_size: \n",
      " \n",
      " {'is': 1, 'during': 2, 'it': 3, 'in': 4, 'but': 5, 'the': 6, 'sometimes': 7, 'usually': 8, 'never': 9, 'and': 10, 'least': 11, 'fruit': 12, 'favorite': 13, 'liked': 14, 'most': 15, 'loved': 16, 'paris': 17, 'india': 18, 'united': 19, 'states': 20, 'california': 21, 'new': 22, 'jersey': 23, 'france': 24, 'china': 25, 'nice': 26, 'fall': 27, 'june': 28, 'freezing': 29, 'spring': 30, 'pleasant': 31, 'beautiful': 32, 'january': 33, 'snowy': 34, 'warm': 35, 'cold': 36, 'winter': 37, 'march': 38, 'autumn': 39, 'may': 40, 'your': 41, 'my': 42, 'his': 43, 'our': 44, 'her': 45, 'wonderful': 46, 'their': 47, 'busy': 48, 'july': 49, 'september': 50, 'april': 51, 'chilly': 52, 'dry': 53, 'november': 54, 'december': 55, 'february': 56, 'rainy': 57, 'mild': 58, 'october': 59, 'summer': 60, 'wet': 61, 'relaxing': 62, 'quiet': 63, 'hot': 64, 'august': 65, 'grapefruit': 66, 'he': 67, 'dislikes': 68, 'likes': 69, 'she': 70, 'grape': 71, 'apple': 72, 'orange': 73, 'lemon': 74, 'lime': 75, 'banana': 76, 'mango': 77, 'pear': 78, 'strawberry': 79, 'peach': 80, 'like': 81, 'dislike': 82, 'limes': 83, 'lemons': 84, 'grapes': 85, 'apples': 86, 'peaches': 87, 'oranges': 88, 'mangoes': 89, 'pears': 90, 'strawberries': 91, 'bananas': 92, 'we': 93, 'they': 94, 'i': 95, 'you': 96}\n"
     ]
    }
   ],
   "source": [
    "english_vocab_size = len(en_tok.word_index)\n",
    "print(\"len_english_vocab_size: \", english_vocab_size, \"\\n\")\n",
    "print(\"english_vocab_size: \\n \\n\", en_tok.word_index)"
   ]
  },
  {
   "cell_type": "code",
   "execution_count": 25,
   "metadata": {},
   "outputs": [],
   "source": [
    "#padding\n",
    "en_sequences = sequence.pad_sequences(en_sequences, maxlen = max_len_en, padding = 'post')\n",
    "fr_sequences = sequence.pad_sequences(fr_sequences, maxlen = max_len_fr, padding = 'post')"
   ]
  },
  {
   "cell_type": "code",
   "execution_count": 26,
   "metadata": {},
   "outputs": [],
   "source": [
    "from sklearn.model_selection import train_test_split\n",
    "x_train, x_test, y_train, y_test = train_test_split(en_sequences, fr_sequences, test_size=0.33, random_state=0)"
   ]
  },
  {
   "cell_type": "code",
   "execution_count": 27,
   "metadata": {},
   "outputs": [],
   "source": [
    "#Keras's sparse_categorical_crossentropy function requires the labels to be in 3 dimensions\n",
    "y_train = y_train.reshape(*y_train.shape, 1)\n"
   ]
  },
  {
   "cell_type": "code",
   "execution_count": 28,
   "metadata": {},
   "outputs": [],
   "source": [
    "from keras.models import Sequential\n",
    "from keras.layers import GRU, Dense, RepeatVector, Bidirectional, TimeDistributed\n",
    "from keras.layers.embeddings import Embedding\n",
    "from tensorflow.keras.optimizers import Adam\n",
    "from keras.losses import sparse_categorical_crossentropy"
   ]
  },
  {
   "cell_type": "code",
   "execution_count": 29,
   "metadata": {},
   "outputs": [],
   "source": [
    "model = Sequential()\n",
    "model.add(Embedding(input_dim=english_vocab_size+1, output_dim=128, input_length=en_sequences.shape[1]))\n",
    "model.add(Bidirectional(GRU(256, return_sequences=False)))\n",
    "model.add(RepeatVector(y_train.shape[1]))\n",
    "model.add(Bidirectional(GRU(256, return_sequences=True)))\n",
    "model.add(TimeDistributed(Dense(french_vocab_size+1, activation='softmax')))\n",
    "\n",
    "learning_rate = 0.005\n",
    "    \n",
    "model.compile( loss = sparse_categorical_crossentropy, \n",
    "               optimizer = Adam(learning_rate), \n",
    "               metrics = ['accuracy'])\n"
   ]
  },
  {
   "cell_type": "code",
   "execution_count": 31,
   "metadata": {},
   "outputs": [
    {
     "name": "stdout",
     "output_type": "stream",
     "text": [
      "Epoch 1/30\n",
      "62/62 [==============================] - 315s 5s/step - loss: 1.8284 - accuracy: 0.5269 - val_loss: 1.5357 - val_accuracy: 0.5941\n",
      "Epoch 2/30\n",
      "62/62 [==============================] - 316s 5s/step - loss: 1.2689 - accuracy: 0.6481 - val_loss: 1.0399 - val_accuracy: 0.7005\n",
      "Epoch 3/30\n",
      "62/62 [==============================] - 317s 5s/step - loss: 0.9115 - accuracy: 0.7327 - val_loss: 0.7568 - val_accuracy: 0.7707\n",
      "Epoch 4/30\n",
      "62/62 [==============================] - 317s 5s/step - loss: 0.6654 - accuracy: 0.7969 - val_loss: 0.5917 - val_accuracy: 0.8165\n",
      "Epoch 5/30\n",
      "62/62 [==============================] - 315s 5s/step - loss: 0.4492 - accuracy: 0.8643 - val_loss: 0.3523 - val_accuracy: 0.8941\n",
      "Epoch 6/30\n",
      "62/62 [==============================] - 315s 5s/step - loss: 0.2996 - accuracy: 0.9112 - val_loss: 0.2677 - val_accuracy: 0.9201\n",
      "Epoch 7/30\n",
      "62/62 [==============================] - 317s 5s/step - loss: 0.2474 - accuracy: 0.9260 - val_loss: 0.2329 - val_accuracy: 0.9296\n",
      "Epoch 8/30\n",
      "62/62 [==============================] - 770s 13s/step - loss: 0.1905 - accuracy: 0.9426 - val_loss: 0.1839 - val_accuracy: 0.9446\n",
      "Epoch 9/30\n",
      "62/62 [==============================] - 317s 5s/step - loss: 0.1566 - accuracy: 0.9525 - val_loss: 0.1721 - val_accuracy: 0.9473\n",
      "Epoch 10/30\n",
      "62/62 [==============================] - 316s 5s/step - loss: 0.1550 - accuracy: 0.9525 - val_loss: 0.1731 - val_accuracy: 0.9476\n",
      "Epoch 11/30\n",
      "62/62 [==============================] - 317s 5s/step - loss: 0.1326 - accuracy: 0.9595 - val_loss: 0.1459 - val_accuracy: 0.9560\n",
      "Epoch 12/30\n",
      "62/62 [==============================] - 319s 5s/step - loss: 0.1062 - accuracy: 0.9673 - val_loss: 0.1322 - val_accuracy: 0.9603\n",
      "Epoch 13/30\n",
      "62/62 [==============================] - 320s 5s/step - loss: 0.1127 - accuracy: 0.9652 - val_loss: 0.1355 - val_accuracy: 0.9597\n",
      "Epoch 14/30\n",
      "62/62 [==============================] - 322s 5s/step - loss: 0.1084 - accuracy: 0.9667 - val_loss: 0.1304 - val_accuracy: 0.9611\n",
      "Epoch 15/30\n",
      "62/62 [==============================] - 3336s 55s/step - loss: 0.0863 - accuracy: 0.9731 - val_loss: 0.1236 - val_accuracy: 0.9631\n",
      "Epoch 16/30\n",
      "62/62 [==============================] - 341s 6s/step - loss: 0.0797 - accuracy: 0.9752 - val_loss: 0.1197 - val_accuracy: 0.9645\n",
      "Epoch 17/30\n",
      "62/62 [==============================] - 336s 5s/step - loss: 0.0893 - accuracy: 0.9725 - val_loss: 0.1207 - val_accuracy: 0.9647\n",
      "Epoch 18/30\n",
      "62/62 [==============================] - 342s 6s/step - loss: 0.0735 - accuracy: 0.9771 - val_loss: 0.1250 - val_accuracy: 0.9629\n",
      "Epoch 19/30\n",
      "62/62 [==============================] - 341s 6s/step - loss: 0.0664 - accuracy: 0.9788 - val_loss: 0.1168 - val_accuracy: 0.9665\n",
      "Epoch 20/30\n",
      "62/62 [==============================] - 371s 6s/step - loss: 0.0714 - accuracy: 0.9776 - val_loss: 0.1285 - val_accuracy: 0.9642\n",
      "Epoch 21/30\n",
      "62/62 [==============================] - 358s 6s/step - loss: 0.0692 - accuracy: 0.9780 - val_loss: 0.1304 - val_accuracy: 0.9628\n",
      "Epoch 22/30\n",
      "62/62 [==============================] - 332s 5s/step - loss: 0.0622 - accuracy: 0.9801 - val_loss: 0.1130 - val_accuracy: 0.9680\n",
      "Epoch 23/30\n",
      "62/62 [==============================] - 331s 5s/step - loss: 0.0555 - accuracy: 0.9821 - val_loss: 0.1134 - val_accuracy: 0.9684\n",
      "Epoch 24/30\n",
      "62/62 [==============================] - 335s 5s/step - loss: 0.0553 - accuracy: 0.9821 - val_loss: 0.1216 - val_accuracy: 0.9672\n",
      "Epoch 25/30\n",
      "62/62 [==============================] - 336s 5s/step - loss: 0.0665 - accuracy: 0.9791 - val_loss: 0.1180 - val_accuracy: 0.9678\n",
      "Epoch 26/30\n",
      "62/62 [==============================] - 329s 5s/step - loss: 0.0631 - accuracy: 0.9796 - val_loss: 0.1398 - val_accuracy: 0.9625\n",
      "Epoch 27/30\n",
      "62/62 [==============================] - 330s 5s/step - loss: 0.0614 - accuracy: 0.9801 - val_loss: 0.1169 - val_accuracy: 0.9675\n",
      "Epoch 28/30\n",
      "62/62 [==============================] - 394s 6s/step - loss: 0.0630 - accuracy: 0.9798 - val_loss: 0.1242 - val_accuracy: 0.9667\n",
      "Epoch 29/30\n",
      "62/62 [==============================] - 383s 6s/step - loss: 0.0552 - accuracy: 0.9822 - val_loss: 0.1137 - val_accuracy: 0.9694\n",
      "Epoch 30/30\n",
      "62/62 [==============================] - 341s 6s/step - loss: 0.0465 - accuracy: 0.9847 - val_loss: 0.1140 - val_accuracy: 0.9694\n"
     ]
    }
   ],
   "source": [
    "history = model.fit(x_train, y_train, batch_size = 1050, epochs = 30, validation_split = 0.2)\n"
   ]
  },
  {
   "cell_type": "code",
   "execution_count": 43,
   "metadata": {},
   "outputs": [
    {
     "name": "stdout",
     "output_type": "stream",
     "text": [
      "Epoch 1/2\n",
      "22/22 [==============================] - 320s 15s/step - loss: 0.0262 - accuracy: 0.9901 - val_loss: 0.1046 - val_accuracy: 0.9753\n",
      "Epoch 2/2\n",
      "22/22 [==============================] - 317s 14s/step - loss: 0.0261 - accuracy: 0.9901 - val_loss: 0.1052 - val_accuracy: 0.9753\n"
     ]
    }
   ],
   "source": [
    "history1 = model.fit(x_train, y_train, batch_size = 3000, epochs = 2, validation_split = 0.2)\n"
   ]
  },
  {
   "cell_type": "code",
   "execution_count": 44,
   "metadata": {},
   "outputs": [
    {
     "name": "stdout",
     "output_type": "stream",
     "text": [
      "1249/1249 [==============================] - 124s 100ms/step - loss: 0.1069 - accuracy: 0.9753\n"
     ]
    }
   ],
   "source": [
    "accuracy = model.evaluate(x_test, y_test)"
   ]
  },
  {
   "cell_type": "code",
   "execution_count": 45,
   "metadata": {},
   "outputs": [
    {
     "data": {
      "image/png": "[encoded data removed]",
      "text/plain": [
       "<Figure size 432x288 with 1 Axes>"
      ]
     },
     "metadata": {
      "needs_background": "light"
     },
     "output_type": "display_data"
    }
   ],
   "source": [
    "from matplotlib import pyplot as plt\n",
    "\n",
    "plt.plot(history.history['accuracy'])\n",
    "plt.plot(history.history['val_accuracy'])\n",
    "plt.xlabel('epoch')\n",
    "plt.ylabel('accuracy')\n",
    "plt.legend(['train_acc', 'val_acc'])\n",
    "plt.show()"
   ]
  },
  {
   "cell_type": "code",
   "execution_count": 46,
   "metadata": {},
   "outputs": [
    {
     "data": {
      "image/png": "[encoded data removed]",
      "text/plain": [
       "<Figure size 432x288 with 1 Axes>"
      ]
     },
     "metadata": {
      "needs_background": "light"
     },
     "output_type": "display_data"
    }
   ],
   "source": [
    "plt.plot(history.history['loss'])\n",
    "plt.plot(history.history['val_loss'])\n",
    "plt.xlabel('epoch')\n",
    "plt.ylabel('loss')\n",
    "plt.legend(['train_loss', 'val_loss'])\n",
    "plt.show()"
   ]
  },
  {
   "cell_type": "code",
   "execution_count": 104,
   "metadata": {},
   "outputs": [],
   "source": [
    "y_id_to_word = {value: key for key, value in fr_tok.word_index.items()}\n",
    "y_id_to_word[0] = ' '\n",
    "sentence = 'he dislikes strawberry'\n",
    "sentence2 = 'new jersey is never snowy during may ' #english_sentences['Line 1'][9500]\n",
    "sentence = [en_tok.word_index[word] for word in sentence.split()]\n",
    "sentence = pad_sequences([sentence], maxlen=en_sequences.shape[-1], padding='post')\n",
    "sentences = np.array([sentence[0], en_sequences[9500]])\n",
    "\n",
    "predictions = model.predict(sentences, len(sentences))\n"
   ]
  },
  {
   "cell_type": "code",
   "execution_count": 110,
   "metadata": {},
   "outputs": [
    {
     "name": "stdout",
     "output_type": "stream",
     "text": [
      "example 1:\n",
      "il déteste les les les citrons et les bananes                        \n",
      "\n",
      "example 2:\n",
      "english sentence:  new jersey is never snowy during may \n",
      "test:  la pêche est moins son fruit préféré mais la chaux est notre moins préféré              \n",
      "prediction:  la pêche est moins son fruit préféré mais la chaux est notre moins préféré              \n"
     ]
    }
   ],
   "source": [
    "print('example 1:')\n",
    "print(' '.join([y_id_to_word[np.argmax(x)] for x in predictions[0]]))\n",
    "print()\n",
    "\n",
    "print('example 2:')\n",
    "print(\"english sentence: \", english_sentences['Line 1'][9500])\n",
    "print(\"test: \", ' '.join([y_id_to_word[np.max(x)] for x in fr_sequences[9500]]))\n",
    "print(\"prediction: \", ' '.join([y_id_to_word[np.argmax(x)] for x in predictions[1]]))\n"
   ]
  },
  {
   "cell_type": "code",
   "execution_count": null,
   "metadata": {},
   "outputs": [],
   "source": []
  }
 ],
 "metadata": {
  "kernelspec": {
   "display_name": "Python 3",
   "language": "python",
   "name": "python3"
  },
  "language_info": {
   "codemirror_mode": {
    "name": "ipython",
    "version": 3
   },
   "file_extension": ".py",
   "mimetype": "text/x-python",
   "name": "python",
   "nbconvert_exporter": "python",
   "pygments_lexer": "ipython3",
   "version": "3.8.8"
  }
 },
 "nbformat": 4,
 "nbformat_minor": 4
}
